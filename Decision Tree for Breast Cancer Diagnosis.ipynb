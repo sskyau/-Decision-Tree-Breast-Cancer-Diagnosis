{
 "cells": [
  {
   "cell_type": "markdown",
   "metadata": {},
   "source": [
    "# Decision Trees"
   ]
  },
  {
   "cell_type": "code",
   "execution_count": 1,
   "metadata": {
    "scrolled": false
   },
   "outputs": [],
   "source": [
    "%matplotlib inline\n",
    "import numpy as np\n",
    "\n",
    "from sklearn import datasets as ds\n",
    "from sklearn.decomposition import PCA\n",
    "from sklearn import preprocessing\n",
    "\n",
    "import matplotlib.pyplot as plt"
   ]
  },
  {
   "cell_type": "markdown",
   "metadata": {},
   "source": [
    "## Import data"
   ]
  },
  {
   "cell_type": "code",
   "execution_count": 2,
   "metadata": {
    "scrolled": false
   },
   "outputs": [],
   "source": [
    "data_all = ds.load_breast_cancer()\n",
    "\n",
    "x = data_all.data\n",
    "y = data_all.target\n",
    "\n",
    "y_names = data_all.target_names \n",
    "\n",
    "feature_names = data_all.feature_names"
   ]
  },
  {
   "cell_type": "markdown",
   "metadata": {},
   "source": [
    "## Breast Cancer Wisconsin (Diagnostic) Database\n",
    "A description of the dataset used is provided here.\n",
    "\n",
    "Data Set Characteristics:\n",
    "    :Number of Instances: 569\n",
    "\n",
    "    :Number of Attributes: 30 numeric, predictive attributes and the class\n",
    "\n",
    "    :Attribute Information:\n",
    "        - radius (mean of distances from center to points on the perimeter)\n",
    "        - texture (standard deviation of gray-scale values)\n",
    "        - perimeter\n",
    "        - area\n",
    "        - smoothness (local variation in radius lengths)\n",
    "        - compactness (perimeter^2 / area - 1.0)\n",
    "        - concavity (severity of concave portions of the contour)\n",
    "        - concave points (number of concave portions of the contour)\n",
    "        - symmetry \n",
    "        - fractal dimension (\"coastline approximation\" - 1)\n",
    "\n",
    "        The mean, standard error, and \"worst\" or largest (mean of the three\n",
    "        largest values) of these features were computed for each image,\n",
    "        resulting in 30 features.  For instance, field 3 is Mean Radius, field\n",
    "        13 is Radius SE, field 23 is Worst Radius.\n",
    "\n",
    "        - target class:\n",
    "                - WDBC-Malignant\n",
    "                - WDBC-Benign\n",
    "\n",
    "    :Summary Statistics:\n",
    "\n",
    "    ===================================== ====== ======\n",
    "                                           Min    Max\n",
    "    ===================================== ====== ======\n",
    "    radius (mean):                        6.981  28.11\n",
    "    texture (mean):                       9.71   39.28\n",
    "    perimeter (mean):                     43.79  188.5\n",
    "    area (mean):                          143.5  2501.0\n",
    "    smoothness (mean):                    0.053  0.163\n",
    "    compactness (mean):                   0.019  0.345\n",
    "    concavity (mean):                     0.0    0.427\n",
    "    concave points (mean):                0.0    0.201\n",
    "    symmetry (mean):                      0.106  0.304\n",
    "    fractal dimension (mean):             0.05   0.097\n",
    "    radius (standard error):              0.112  2.873\n",
    "    texture (standard error):             0.36   4.885\n",
    "    perimeter (standard error):           0.757  21.98\n",
    "    area (standard error):                6.802  542.2\n",
    "    smoothness (standard error):          0.002  0.031\n",
    "    compactness (standard error):         0.002  0.135\n",
    "    concavity (standard error):           0.0    0.396\n",
    "    concave points (standard error):      0.0    0.053\n",
    "    symmetry (standard error):            0.008  0.079\n",
    "    fractal dimension (standard error):   0.001  0.03\n",
    "    radius (worst):                       7.93   36.04\n",
    "    texture (worst):                      12.02  49.54\n",
    "    perimeter (worst):                    50.41  251.2\n",
    "    area (worst):                         185.2  4254.0\n",
    "    smoothness (worst):                   0.071  0.223\n",
    "    compactness (worst):                  0.027  1.058\n",
    "    concavity (worst):                    0.0    1.252\n",
    "    concave points (worst):               0.0    0.291\n",
    "    symmetry (worst):                     0.156  0.664\n",
    "    fractal dimension (worst):            0.055  0.208\n",
    "    ===================================== ====== ======\n",
    "\n",
    "    :Missing Attribute Values: None\n",
    "\n",
    "    :Class Distribution: 212 - Malignant, 357 - Benign\n",
    "\n",
    "    :Creator:  Dr. William H. Wolberg, W. Nick Street, Olvi L. Mangasarian\n",
    "\n",
    "    :Donor: Nick Street\n",
    "\n",
    "    :Date: November, 1995\n",
    "\n",
    "This is a copy of the UCI ML Breast Cancer Wisconsin (Diagnostic) dataset from https://goo.gl/U2Uwz2"
   ]
  },
  {
   "cell_type": "markdown",
   "metadata": {},
   "source": [
    "## 1. Prepare/Split data"
   ]
  },
  {
   "cell_type": "code",
   "execution_count": 3,
   "metadata": {
    "scrolled": false
   },
   "outputs": [
    {
     "name": "stdout",
     "output_type": "stream",
     "text": [
      "Training set size: 341\n",
      "Test set size: 228\n"
     ]
    }
   ],
   "source": [
    "split = int(x.shape[0] * 0.6)\n",
    "\n",
    "x_train = x[:split,:]\n",
    "y_train = y[:split]\n",
    "\n",
    "x_test = x[split:,:]\n",
    "y_test = y[split:]\n",
    "\n",
    "print('Training set size:', x_train.shape[0])\n",
    "print('Test set size:', x_test.shape[0])"
   ]
  },
  {
   "cell_type": "markdown",
   "metadata": {},
   "source": [
    "## 2. Dimensionality Reduction with PCA"
   ]
  },
  {
   "cell_type": "code",
   "execution_count": 4,
   "metadata": {
    "scrolled": false
   },
   "outputs": [
    {
     "data": {
      "text/plain": [
       "<matplotlib.legend.Legend at 0x7fe280cfe9a0>"
      ]
     },
     "execution_count": 4,
     "metadata": {},
     "output_type": "execute_result"
    },
    {
     "data": {
      "image/png": "[encoded data removed]",
      "text/plain": [
       "<Figure size 432x288 with 1 Axes>"
      ]
     },
     "metadata": {
      "needs_background": "light"
     },
     "output_type": "display_data"
    }
   ],
   "source": [
    "pca = PCA(n_components=2)\n",
    "x_scaled = preprocessing.scale(x[:,:-1]) # We remove the indexing and make sure all the features are in N(0,1)\n",
    "x_reduced = pca.fit_transform(x_scaled)\n",
    "#x_reduced = pca.fit_transform(x[:,0:-1]) # Uncomment this to see the result without scaling\n",
    "\n",
    "\n",
    "# **************************************************************** 1 mark\n",
    "\n",
    "#create malignant datasets\n",
    "malignant_index = np.where(y==0)\n",
    "malignant_index = malignant_index[0]\n",
    "\n",
    "malignant_x_reduced = np.array(x_reduced)[malignant_index]\n",
    "malignant_x_reduced_pc1 = malignant_x_reduced[:,0]\n",
    "malignant_x_reduced_pc2 = malignant_x_reduced[:,-1]\n",
    "\n",
    "#create benign datasets\n",
    "benign_index = np.where(y==1)\n",
    "benign_index = benign_index[0]\n",
    "\n",
    "benign_x_reduced = np.array(x_reduced)[benign_index]\n",
    "benign_x_reduced_pc1 = benign_x_reduced[:,0]\n",
    "benign_x_reduced_pc2 = benign_x_reduced[:,-1]\n",
    "\n",
    "\n",
    "plt.scatter(malignant_x_reduced_pc1, malignant_x_reduced_pc2)\n",
    "plt.scatter(benign_x_reduced_pc1, benign_x_reduced_pc2)\n",
    "plt.legend(['malignant', 'benign'])"
   ]
  },
  {
   "cell_type": "markdown",
   "metadata": {},
   "source": [
    "## 3. Building the Decision Tree"
   ]
  },
  {
   "cell_type": "code",
   "execution_count": 5,
   "metadata": {
    "scrolled": false
   },
   "outputs": [
    {
     "name": "stdout",
     "output_type": "stream",
     "text": [
      "The entropy of 'y' is: 0.9526\n"
     ]
    }
   ],
   "source": [
    "import math\n",
    "\n",
    "def calculate_entropy(y):\n",
    "    \n",
    "    # **************************************************************** 4 marks\n",
    "    #print(\"calculating entropy...\")\n",
    "    n = 0\n",
    "    \n",
    "    # count number of unique values of y in all classes\n",
    "    for i in np.unique(y):\n",
    "        try:\n",
    "            n += (np.unique(y, return_counts=True)[1][i])\n",
    "        except:\n",
    "            n = (np.unique(y, return_counts=True)[1][0])\n",
    "            if n.size == 0:\n",
    "                entropy = 0\n",
    "                return entropy\n",
    "            \n",
    "    entropy = 0\n",
    "    #print(\"# unique y values is: \", n)\n",
    "    \n",
    "    # calculate entropy\n",
    "    for i in np.unique(y):\n",
    "        try:\n",
    "            class_n = np.unique(y,return_counts = True)[1][i]\n",
    "        except:\n",
    "            entropy = 0\n",
    "            return entropy\n",
    "        \n",
    "        #print(\"class: \" + str(i) + \" count: \" + str(class_n))\n",
    "        class_p = class_n/n\n",
    "        #print(\"class: \" + str(i) + \" probability: \" + str(class_p))\n",
    "        entropy += -class_p*math.log2(class_p)\n",
    "        #print(\"class: \" + str(i) + \" entropy: \" +str(-class_p*math.log2(class_p)))\n",
    "        \n",
    "    #print(\"entropy: \", entropy)\n",
    "      \n",
    "    return entropy\n",
    "\n",
    "print(\"The entropy of 'y' is: {:.4f}\".format(calculate_entropy(y)))"
   ]
  },
  {
   "cell_type": "code",
   "execution_count": 6,
   "metadata": {
    "scrolled": false
   },
   "outputs": [],
   "source": [
    "def find_split(x, y):\n",
    "    \"\"\"Given a dataset and its target values, this finds the optimal combination\n",
    "    of feature and split point that gives the maximum information gain.\"\"\"\n",
    "    \n",
    "    # Need the starting entropy so we can measure improvement...\n",
    "    start_entropy = calculate_entropy(y)\n",
    "    #print(\"start_entropy: \", start_entropy)\n",
    "    # Best thus far, initialised to a dud that will be replaced immediately...\n",
    "    best = {'infogain' : -np.inf}\n",
    "    \n",
    "    # Loop every possible split of every dimension...\n",
    "    #print(\"finding split...\")\n",
    "    for i in range(x.shape[1]):\n",
    "        for split in np.unique(x[:,i]):\n",
    "            \n",
    "            # **************************************************************** 5 marks\n",
    "            #print(\"attribute: \", feature_names[i], \" split: \", split)\n",
    "            attr_list = x[:,i]\n",
    "            #print(\"dimension: \", attr_list.ndim)\n",
    "            left_indices = np.where(attr_list <= split)\n",
    "            \n",
    "            # left node\n",
    "            '''\n",
    "            if len(left_indices) > 1:\n",
    "                left_indices = np.asarray(left_indices).ravel()\n",
    "            '''\n",
    "            #print(\"left: \")\n",
    "            #print(\"indices: \", left_indices)\n",
    "            \n",
    "            try: \n",
    "                left_entropy = calculate_entropy(y[left_indices])\n",
    "            except:\n",
    "                left_entropy = calculate_entropy(y[left_indices[0]])\n",
    "                \n",
    "            left_count = len(y[left_indices])\n",
    "            #print(\"count: \", left_count)\n",
    "            #print(y[left_indices])\n",
    "            #print(\"entropy: \", left_entropy)\n",
    "            \n",
    "            #right node\n",
    "            #print(\"right: \")\n",
    "            right_indices = np.where(attr_list > split)\n",
    "            \n",
    "            #print(\"indices: \", right_indices)\n",
    "            '''\n",
    "            if len(right_indices) > 1:\n",
    "                right_indices = np.asarray(right_indices).ravel()\n",
    "            '''\n",
    "            try:\n",
    "                right_entropy = calculate_entropy(y[right_indices])\n",
    "            except:\n",
    "                right_entropy = calculate_entropy(y[right_indices[0]])\n",
    "                \n",
    "            right_count = len(y[right_indices])\n",
    "            \n",
    "            #print(\"count: \", right_count)\n",
    "            #print(y[right_indices])\n",
    "            #print(\"entropy: \", right_entropy)\n",
    "            \n",
    "            # calculate information gain\n",
    "            total_count = left_count + right_count\n",
    "            #print(\"total count: \", total_count)\n",
    "            infogain = start_entropy - ((left_count/total_count)*left_entropy + (right_count/total_count)*right_entropy)\n",
    "            #print(\"info gain: \", infogain)\n",
    "            \n",
    "            # if infogain is best\n",
    "            if infogain > best['infogain']:\n",
    "                #print(\"found better infogain\")\n",
    "                #print(\"best left_indices: \", left_indices)\n",
    "                #print(\"best right_indicesL \", right_indices)\n",
    "                best = {'feature' : i,\n",
    "                        'split' : split,\n",
    "                        'infogain' : infogain, \n",
    "                        'left_indices' : left_indices[0],\n",
    "                        'right_indices' : right_indices[0]}\n",
    "    return best\n",
    "\n",
    "#print('best: ', find_split(x,y))"
   ]
  },
  {
   "cell_type": "code",
   "execution_count": 7,
   "metadata": {
    "scrolled": false
   },
   "outputs": [],
   "source": [
    "def build_tree(x, y, max_depth = np.inf):\n",
    "    # Check if either of the stopping conditions have been reached. If so generate a leaf node...\n",
    "    if max_depth==1 or (y==y[0]).all():\n",
    "        # Generate a leaf node...\n",
    "        classes, counts = np.unique(y, return_counts=True)\n",
    "        return {'leaf' : True, 'class' : classes[np.argmax(counts)]}\n",
    "    \n",
    "    else:\n",
    "        move = find_split(x, y)\n",
    "        \n",
    "        left = build_tree(x[move['left_indices'],:], y[move['left_indices']], max_depth - 1)\n",
    "        right = build_tree(x[move['right_indices'],:], y[move['right_indices']], max_depth - 1)\n",
    "        \n",
    "        return {'leaf' : False,\n",
    "                'feature' : move['feature'],\n",
    "                'split' : move['split'],\n",
    "                'infogain' : move['infogain'],\n",
    "                'left' : left,\n",
    "                'right' : right}"
   ]
  },
  {
   "cell_type": "markdown",
   "metadata": {},
   "source": [
    "## Model Evaluation"
   ]
  },
  {
   "cell_type": "code",
   "execution_count": 8,
   "metadata": {
    "scrolled": false
   },
   "outputs": [],
   "source": [
    "def predict(tree, samples):\n",
    "    \"\"\"Predicts class for every entry of a data matrix.\"\"\"\n",
    "    ret = np.empty(samples.shape[0], dtype=int)\n",
    "    ret.fill(-1)\n",
    "    indices = np.arange(samples.shape[0])\n",
    "    \n",
    "    def tranverse(node, indices):\n",
    "        nonlocal samples\n",
    "        nonlocal ret\n",
    "        \n",
    "        if node['leaf']:\n",
    "            ret[indices] = node['class']\n",
    "        \n",
    "        else:\n",
    "            going_left = samples[indices, node['feature']] <= node['split']\n",
    "            left_indices = indices[going_left]\n",
    "            right_indices = indices[np.logical_not(going_left)]\n",
    "            \n",
    "            if left_indices.shape[0] > 0:\n",
    "                tranverse(node['left'], left_indices)\n",
    "                \n",
    "            if right_indices.shape[0] > 0:\n",
    "                tranverse(node['right'], right_indices)\n",
    "    \n",
    "    tranverse(tree, indices)\n",
    "    return ret"
   ]
  },
  {
   "cell_type": "code",
   "execution_count": 9,
   "metadata": {
    "scrolled": true
   },
   "outputs": [
    {
     "name": "stdout",
     "output_type": "stream",
     "text": [
      "Train Accuracy: 100.00%\n",
      "Test Accuracy: 89.91%\n"
     ]
    }
   ],
   "source": [
    "def cal_acc(pred, actual):\n",
    "    \n",
    "    correct = 0\n",
    "    \n",
    "    for i in range(len(pred)):\n",
    "        if pred[i] == actual[i]:\n",
    "            correct += 1\n",
    "    \n",
    "    acc = correct/len(pred)\n",
    "    \n",
    "    return acc\n",
    "\n",
    "\n",
    "def evaluate(x_train, y_train, x_test, y_test, max_depth):\n",
    "    \n",
    "    # **************************************************************** 2 marks\n",
    "    \n",
    "    # build tree\n",
    "    train_tree = build_tree(x_train, y_train, max_depth)\n",
    "    \n",
    "    # use tree to predict train set\n",
    "    train_pred = predict(train_tree, x_train)\n",
    "    \n",
    "    # calculate train set accuracy\n",
    "    train_acc = cal_acc(train_pred, y_train)\n",
    "    \n",
    "    # use tree to predict test set\n",
    "    test_pred = predict(train_tree, x_test)\n",
    "    \n",
    "    # calculate test set accuracy\n",
    "    test_acc = cal_acc(test_pred, y_test)\n",
    "    \n",
    "    return train_acc, test_acc\n",
    "\n",
    "\n",
    "train_acc, test_acc = evaluate(x_train, y_train, x_test, y_test, np.inf)\n",
    "print('Train Accuracy: {:.2f}%'.format(train_acc*100))\n",
    "print('Test Accuracy: {:.2f}%'.format(test_acc*100))"
   ]
  },
  {
   "cell_type": "markdown",
   "metadata": {},
   "source": [
    "## 5. Optimisation - Optimal Tree Depth"
   ]
  },
  {
   "cell_type": "code",
   "execution_count": 10,
   "metadata": {
    "scrolled": true
   },
   "outputs": [
    {
     "name": "stdout",
     "output_type": "stream",
     "text": [
      "The best max_depth is 4, and the corresponding training and test accuracies are 97.36% and 91.67% respectively.\n"
     ]
    }
   ],
   "source": [
    "def find_best_max_depth(x_train, y_train, x_test, y_test):\n",
    "    \n",
    "    # **************************************************************** 2 marks\n",
    "    \n",
    "    best_max_depth = 0\n",
    "    best_train_acc = 0\n",
    "    best_test_acc = 0\n",
    "    \n",
    "    for i in range(2,6):\n",
    "        \n",
    "        train_acc, test_acc = evaluate (x_train, y_train, x_test, y_test, i)\n",
    "        \n",
    "        if test_acc > best_test_acc:\n",
    "            best_max_depth = i\n",
    "            best_train_acc = train_acc\n",
    "            best_test_acc = test_acc\n",
    "    \n",
    "    return best_max_depth, best_train_acc, best_test_acc\n",
    "\n",
    "\n",
    "best_max_depth, best_train_acc, best_test_acc = find_best_max_depth(x_train, y_train, x_test, y_test)\n",
    "print('The best max_depth is {}, and the corresponding training and test accuracies are {:.2f}% and {:.2f}% respectively.'.format(best_max_depth,best_train_acc*100,best_test_acc*100))"
   ]
  },
  {
   "cell_type": "markdown",
   "metadata": {},
   "source": [
    "## 6. Visualising the Final Decision Tree"
   ]
  },
  {
   "cell_type": "code",
   "execution_count": 11,
   "metadata": {
    "scrolled": true
   },
   "outputs": [
    {
     "name": "stdout",
     "output_type": "stream",
     "text": [
      " [x 22 <= 105.0 ]\n",
      "\t [x 24 <= 0.1733 ]\n",
      "\t\t [x 21 <= 23.31 ]\n",
      "\t\t\t predict  1\n",
      "\t\t [x 21 > 23.31 ]\n",
      "\t\t\t predict  1\n",
      "\t [x 24 > 0.1733 ]\n",
      "\t\t predict  0\n",
      " [x 22 > 105.0 ]\n",
      "\t [x 22 <= 114.3 ]\n",
      "\t\t [x 1 <= 19.65 ]\n",
      "\t\t\t predict  1\n",
      "\t\t [x 1 > 19.65 ]\n",
      "\t\t\t predict  0\n",
      "\t [x 22 > 114.3 ]\n",
      "\t\t [x 7 <= 0.02771 ]\n",
      "\t\t\t predict  1\n",
      "\t\t [x 7 > 0.02771 ]\n",
      "\t\t\t predict  0\n"
     ]
    }
   ],
   "source": [
    "def print_tree(tree, indent = 0):\n",
    "    \n",
    "    # **************************************************************** 1 mark\n",
    "    \n",
    "    if tree['leaf'] == False:\n",
    "        \n",
    "        # print left nodes\n",
    "        print ('\\t' * indent, \"[x\", str(tree['feature']).strip(), '<=', str(tree['split']).strip(), ']')\n",
    "        print_tree(tree['left'], indent + 1)\n",
    "            \n",
    "        # print right nodes\n",
    "        print ('\\t' * indent, \"[x\", str(tree['feature']).strip(), '>', str(tree['split']).strip(), ']')\n",
    "        print_tree(tree['right'], indent + 1)\n",
    "        \n",
    "    else:\n",
    "        print('\\t' * indent, \"predict \", tree['class'])\n",
    "    \n",
    "    return \n",
    "    \n",
    "\n",
    "\n",
    "tree = build_tree(x_train, y_train, best_max_depth)\n",
    "print_tree(tree)"
   ]
  }
 ],
 "metadata": {
  "kernelspec": {
   "display_name": "Python 3",
   "language": "python",
   "name": "python3"
  },
  "language_info": {
   "codemirror_mode": {
    "name": "ipython",
    "version": 3
   },
   "file_extension": ".py",
   "mimetype": "text/x-python",
   "name": "python",
   "nbconvert_exporter": "python",
   "pygments_lexer": "ipython3",
   "version": "3.8.8"
  }
 },
 "nbformat": 4,
 "nbformat_minor": 2
}
